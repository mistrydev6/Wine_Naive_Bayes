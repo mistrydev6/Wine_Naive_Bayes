{
 "cells": [
  {
   "cell_type": "code",
   "execution_count": 1,
   "metadata": {},
   "outputs": [],
   "source": [
    "import numpy as np\n",
    "import pandas as pd\n",
    "from nltk.corpus import stopwords\n",
    "from sklearn.model_selection import train_test_split\n",
    "from sklearn.metrics import roc_curve, confusion_matrix\n",
    "import matplotlib.pyplot as plt\n",
    "from matplotlib.colors import LinearSegmentedColormap\n",
    "import seaborn as sns\n",
    "from sklearn.metrics import auc\n",
    "from sklearn.preprocessing import label_binarize\n",
    "\n",
    "\n",
    "\n"
   ]
  },
  {
   "cell_type": "code",
   "execution_count": 8,
   "metadata": {},
   "outputs": [],
   "source": [
    "data = pd.read_csv('data.csv')\n",
    "\n",
    "\n",
    "stop = stopwords.words('english')\n",
    "x = data.description\n",
    "y = data.points"
   ]
  },
  {
   "cell_type": "code",
   "execution_count": 7,
   "metadata": {},
   "outputs": [],
   "source": [
    "corpus = []\n",
    "IGNORE = False\n",
    "for i in range(len(x)):\n",
    "    if IGNORE == False:\n",
    "        review = x[i].split(\" \")\n",
    "        review = [word for word in review if word not in stop]\n",
    "        review = ' '.join(review)\n",
    "        corpus.append(review)\n",
    "    else:\n",
    "        review = [i].split(\" \")\n",
    "        review = [word for word in review]\n",
    "        review = ' '.join(review)\n",
    "        corpus.append(review)    \n"
   ]
  },
  {
   "cell_type": "code",
   "execution_count": 4,
   "metadata": {},
   "outputs": [
    {
     "data": {
      "text/html": [
       "<div>\n",
       "<style scoped>\n",
       "    .dataframe tbody tr th:only-of-type {\n",
       "        vertical-align: middle;\n",
       "    }\n",
       "\n",
       "    .dataframe tbody tr th {\n",
       "        vertical-align: top;\n",
       "    }\n",
       "\n",
       "    .dataframe thead th {\n",
       "        text-align: right;\n",
       "    }\n",
       "</style>\n",
       "<table border=\"1\" class=\"dataframe\">\n",
       "  <thead>\n",
       "    <tr style=\"text-align: right;\">\n",
       "      <th></th>\n",
       "      <th>Description</th>\n",
       "      <th>Points</th>\n",
       "    </tr>\n",
       "  </thead>\n",
       "  <tbody>\n",
       "    <tr>\n",
       "      <th>0</th>\n",
       "      <td>This tremendous 100% varietal wine hails Oakvi...</td>\n",
       "      <td>96</td>\n",
       "    </tr>\n",
       "    <tr>\n",
       "      <th>1</th>\n",
       "      <td>Ripe aromas fig, blackberry cassis softened sw...</td>\n",
       "      <td>96</td>\n",
       "    </tr>\n",
       "    <tr>\n",
       "      <th>2</th>\n",
       "      <td>Mac Watson honors memory wine made mother trem...</td>\n",
       "      <td>96</td>\n",
       "    </tr>\n",
       "    <tr>\n",
       "      <th>3</th>\n",
       "      <td>This spent 20 months 30% new French oak, incor...</td>\n",
       "      <td>96</td>\n",
       "    </tr>\n",
       "    <tr>\n",
       "      <th>4</th>\n",
       "      <td>This top wine La Bégude, named highest point v...</td>\n",
       "      <td>95</td>\n",
       "    </tr>\n",
       "    <tr>\n",
       "      <th>...</th>\n",
       "      <td>...</td>\n",
       "      <td>...</td>\n",
       "    </tr>\n",
       "    <tr>\n",
       "      <th>150925</th>\n",
       "      <td>Many people feel Fiano represents southern Ita...</td>\n",
       "      <td>91</td>\n",
       "    </tr>\n",
       "    <tr>\n",
       "      <th>150926</th>\n",
       "      <td>Offers intriguing nose ginger, lime floral ele...</td>\n",
       "      <td>91</td>\n",
       "    </tr>\n",
       "    <tr>\n",
       "      <th>150927</th>\n",
       "      <td>This classic example comes cru vineyard called...</td>\n",
       "      <td>91</td>\n",
       "    </tr>\n",
       "    <tr>\n",
       "      <th>150928</th>\n",
       "      <td>A perfect salmon shade, scents peaches, cherri...</td>\n",
       "      <td>90</td>\n",
       "    </tr>\n",
       "    <tr>\n",
       "      <th>150929</th>\n",
       "      <td>More Pinot Grigios taste like this. A rich pea...</td>\n",
       "      <td>90</td>\n",
       "    </tr>\n",
       "  </tbody>\n",
       "</table>\n",
       "<p>150930 rows × 2 columns</p>\n",
       "</div>"
      ],
      "text/plain": [
       "                                              Description  Points\n",
       "0       This tremendous 100% varietal wine hails Oakvi...      96\n",
       "1       Ripe aromas fig, blackberry cassis softened sw...      96\n",
       "2       Mac Watson honors memory wine made mother trem...      96\n",
       "3       This spent 20 months 30% new French oak, incor...      96\n",
       "4       This top wine La Bégude, named highest point v...      95\n",
       "...                                                   ...     ...\n",
       "150925  Many people feel Fiano represents southern Ita...      91\n",
       "150926  Offers intriguing nose ginger, lime floral ele...      91\n",
       "150927  This classic example comes cru vineyard called...      91\n",
       "150928  A perfect salmon shade, scents peaches, cherri...      90\n",
       "150929  More Pinot Grigios taste like this. A rich pea...      90\n",
       "\n",
       "[150930 rows x 2 columns]"
      ]
     },
     "execution_count": 4,
     "metadata": {},
     "output_type": "execute_result"
    }
   ],
   "source": [
    "df = pd.DataFrame({\"Description\": corpus, \"Points\":y})\n",
    "\n",
    "df"
   ]
  },
  {
   "cell_type": "code",
   "execution_count": 6,
   "metadata": {},
   "outputs": [
    {
     "data": {
      "text/html": [
       "<div>\n",
       "<style scoped>\n",
       "    .dataframe tbody tr th:only-of-type {\n",
       "        vertical-align: middle;\n",
       "    }\n",
       "\n",
       "    .dataframe tbody tr th {\n",
       "        vertical-align: top;\n",
       "    }\n",
       "\n",
       "    .dataframe thead th {\n",
       "        text-align: right;\n",
       "    }\n",
       "</style>\n",
       "<table border=\"1\" class=\"dataframe\">\n",
       "  <thead>\n",
       "    <tr style=\"text-align: right;\">\n",
       "      <th></th>\n",
       "      <th>Description</th>\n",
       "      <th>Points</th>\n",
       "      <th>Points_Class</th>\n",
       "    </tr>\n",
       "  </thead>\n",
       "  <tbody>\n",
       "    <tr>\n",
       "      <th>0</th>\n",
       "      <td>This tremendous 100% varietal wine hails Oakvi...</td>\n",
       "      <td>96</td>\n",
       "      <td>4</td>\n",
       "    </tr>\n",
       "    <tr>\n",
       "      <th>1</th>\n",
       "      <td>Ripe aromas fig, blackberry cassis softened sw...</td>\n",
       "      <td>96</td>\n",
       "      <td>4</td>\n",
       "    </tr>\n",
       "    <tr>\n",
       "      <th>2</th>\n",
       "      <td>Mac Watson honors memory wine made mother trem...</td>\n",
       "      <td>96</td>\n",
       "      <td>4</td>\n",
       "    </tr>\n",
       "    <tr>\n",
       "      <th>3</th>\n",
       "      <td>This spent 20 months 30% new French oak, incor...</td>\n",
       "      <td>96</td>\n",
       "      <td>4</td>\n",
       "    </tr>\n",
       "    <tr>\n",
       "      <th>4</th>\n",
       "      <td>This top wine La Bégude, named highest point v...</td>\n",
       "      <td>95</td>\n",
       "      <td>4</td>\n",
       "    </tr>\n",
       "    <tr>\n",
       "      <th>...</th>\n",
       "      <td>...</td>\n",
       "      <td>...</td>\n",
       "      <td>...</td>\n",
       "    </tr>\n",
       "    <tr>\n",
       "      <th>150925</th>\n",
       "      <td>Many people feel Fiano represents southern Ita...</td>\n",
       "      <td>91</td>\n",
       "      <td>3</td>\n",
       "    </tr>\n",
       "    <tr>\n",
       "      <th>150926</th>\n",
       "      <td>Offers intriguing nose ginger, lime floral ele...</td>\n",
       "      <td>91</td>\n",
       "      <td>3</td>\n",
       "    </tr>\n",
       "    <tr>\n",
       "      <th>150927</th>\n",
       "      <td>This classic example comes cru vineyard called...</td>\n",
       "      <td>91</td>\n",
       "      <td>3</td>\n",
       "    </tr>\n",
       "    <tr>\n",
       "      <th>150928</th>\n",
       "      <td>A perfect salmon shade, scents peaches, cherri...</td>\n",
       "      <td>90</td>\n",
       "      <td>2</td>\n",
       "    </tr>\n",
       "    <tr>\n",
       "      <th>150929</th>\n",
       "      <td>More Pinot Grigios taste like this. A rich pea...</td>\n",
       "      <td>90</td>\n",
       "      <td>2</td>\n",
       "    </tr>\n",
       "  </tbody>\n",
       "</table>\n",
       "<p>150930 rows × 3 columns</p>\n",
       "</div>"
      ],
      "text/plain": [
       "                                              Description  Points Points_Class\n",
       "0       This tremendous 100% varietal wine hails Oakvi...      96            4\n",
       "1       Ripe aromas fig, blackberry cassis softened sw...      96            4\n",
       "2       Mac Watson honors memory wine made mother trem...      96            4\n",
       "3       This spent 20 months 30% new French oak, incor...      96            4\n",
       "4       This top wine La Bégude, named highest point v...      95            4\n",
       "...                                                   ...     ...          ...\n",
       "150925  Many people feel Fiano represents southern Ita...      91            3\n",
       "150926  Offers intriguing nose ginger, lime floral ele...      91            3\n",
       "150927  This classic example comes cru vineyard called...      91            3\n",
       "150928  A perfect salmon shade, scents peaches, cherri...      90            2\n",
       "150929  More Pinot Grigios taste like this. A rich pea...      90            2\n",
       "\n",
       "[150930 rows x 3 columns]"
      ]
     },
     "execution_count": 6,
     "metadata": {},
     "output_type": "execute_result"
    }
   ],
   "source": [
    "bins = [80, 84, 90, 94, 100]\n",
    "labels = [1, 2, 3, 4]\n",
    "\n",
    "\n",
    "df['Points_Class'] = pd.cut(df['Points'], bins=bins, labels=labels, include_lowest=True)\n",
    "\n",
    "df"
   ]
  },
  {
   "cell_type": "code",
   "execution_count": 7,
   "metadata": {},
   "outputs": [
    {
     "name": "stdout",
     "output_type": "stream",
     "text": [
      "0.1536937653216723\n",
      "0.6327171536473862\n",
      "0.19383820314052871\n",
      "0.019750877890412775\n"
     ]
    }
   ],
   "source": [
    "p1=len(df[df['Points_Class'] == 1])/len(df)\n",
    "p2=len(df[df['Points_Class'] == 2])/len(df)\n",
    "p3=len(df[df['Points_Class'] == 3])/len(df)\n",
    "p4=len(df[df['Points_Class'] == 4])/len(df)\n",
    "\n",
    "print(p1)\n",
    "print(p2)\n",
    "print(p3)\n",
    "print(p4)\n"
   ]
  },
  {
   "cell_type": "code",
   "execution_count": 8,
   "metadata": {},
   "outputs": [],
   "source": [
    "def create_binary_bag_of_words(documents):\n",
    "    vocabulary = set()\n",
    "    binary_bow = []\n",
    "\n",
    "    # build vocabulary\n",
    "    for doc in documents:\n",
    "        words = doc.split()\n",
    "        for word in words:\n",
    "            vocabulary.add(word)\n",
    "\n",
    "    # create binary bag of words\n",
    "    for doc in documents:\n",
    "        binary_vector = []\n",
    "        words = doc.split()\n",
    "        for word in vocabulary:\n",
    "            if word in words:\n",
    "                binary_vector.append(1)\n",
    "            else:\n",
    "                binary_vector.append(0)\n",
    "        binary_bow.append(binary_vector)\n",
    "\n",
    "    return binary_bow, list(vocabulary)"
   ]
  },
  {
   "cell_type": "code",
   "execution_count": 9,
   "metadata": {},
   "outputs": [],
   "source": [
    "df2 = pd.DataFrame({\"Text\": corpus, \"Points\":df[\"Points_Class\"]})\n"
   ]
  },
  {
   "cell_type": "code",
   "execution_count": 10,
   "metadata": {},
   "outputs": [
    {
     "data": {
      "text/html": [
       "<div>\n",
       "<style scoped>\n",
       "    .dataframe tbody tr th:only-of-type {\n",
       "        vertical-align: middle;\n",
       "    }\n",
       "\n",
       "    .dataframe tbody tr th {\n",
       "        vertical-align: top;\n",
       "    }\n",
       "\n",
       "    .dataframe thead th {\n",
       "        text-align: right;\n",
       "    }\n",
       "</style>\n",
       "<table border=\"1\" class=\"dataframe\">\n",
       "  <thead>\n",
       "    <tr style=\"text-align: right;\">\n",
       "      <th></th>\n",
       "      <th>Text</th>\n",
       "      <th>Points</th>\n",
       "    </tr>\n",
       "  </thead>\n",
       "  <tbody>\n",
       "    <tr>\n",
       "      <th>0</th>\n",
       "      <td>This tremendous 100% varietal wine hails Oakvi...</td>\n",
       "      <td>4</td>\n",
       "    </tr>\n",
       "    <tr>\n",
       "      <th>1</th>\n",
       "      <td>Ripe aromas fig, blackberry cassis softened sw...</td>\n",
       "      <td>4</td>\n",
       "    </tr>\n",
       "    <tr>\n",
       "      <th>2</th>\n",
       "      <td>Mac Watson honors memory wine made mother trem...</td>\n",
       "      <td>4</td>\n",
       "    </tr>\n",
       "    <tr>\n",
       "      <th>3</th>\n",
       "      <td>This spent 20 months 30% new French oak, incor...</td>\n",
       "      <td>4</td>\n",
       "    </tr>\n",
       "    <tr>\n",
       "      <th>4</th>\n",
       "      <td>This top wine La Bégude, named highest point v...</td>\n",
       "      <td>4</td>\n",
       "    </tr>\n",
       "    <tr>\n",
       "      <th>...</th>\n",
       "      <td>...</td>\n",
       "      <td>...</td>\n",
       "    </tr>\n",
       "    <tr>\n",
       "      <th>150925</th>\n",
       "      <td>Many people feel Fiano represents southern Ita...</td>\n",
       "      <td>3</td>\n",
       "    </tr>\n",
       "    <tr>\n",
       "      <th>150926</th>\n",
       "      <td>Offers intriguing nose ginger, lime floral ele...</td>\n",
       "      <td>3</td>\n",
       "    </tr>\n",
       "    <tr>\n",
       "      <th>150927</th>\n",
       "      <td>This classic example comes cru vineyard called...</td>\n",
       "      <td>3</td>\n",
       "    </tr>\n",
       "    <tr>\n",
       "      <th>150928</th>\n",
       "      <td>A perfect salmon shade, scents peaches, cherri...</td>\n",
       "      <td>2</td>\n",
       "    </tr>\n",
       "    <tr>\n",
       "      <th>150929</th>\n",
       "      <td>More Pinot Grigios taste like this. A rich pea...</td>\n",
       "      <td>2</td>\n",
       "    </tr>\n",
       "  </tbody>\n",
       "</table>\n",
       "<p>150930 rows × 2 columns</p>\n",
       "</div>"
      ],
      "text/plain": [
       "                                                     Text Points\n",
       "0       This tremendous 100% varietal wine hails Oakvi...      4\n",
       "1       Ripe aromas fig, blackberry cassis softened sw...      4\n",
       "2       Mac Watson honors memory wine made mother trem...      4\n",
       "3       This spent 20 months 30% new French oak, incor...      4\n",
       "4       This top wine La Bégude, named highest point v...      4\n",
       "...                                                   ...    ...\n",
       "150925  Many people feel Fiano represents southern Ita...      3\n",
       "150926  Offers intriguing nose ginger, lime floral ele...      3\n",
       "150927  This classic example comes cru vineyard called...      3\n",
       "150928  A perfect salmon shade, scents peaches, cherri...      2\n",
       "150929  More Pinot Grigios taste like this. A rich pea...      2\n",
       "\n",
       "[150930 rows x 2 columns]"
      ]
     },
     "execution_count": 10,
     "metadata": {},
     "output_type": "execute_result"
    }
   ],
   "source": [
    "df2"
   ]
  },
  {
   "cell_type": "code",
   "execution_count": 11,
   "metadata": {},
   "outputs": [],
   "source": [
    "X_train, X_test, y_train, y_test = train_test_split(df2[\"Text\"], df2[\"Points\"], test_size=0.2, random_state=651694207)"
   ]
  },
  {
   "cell_type": "code",
   "execution_count": 12,
   "metadata": {},
   "outputs": [],
   "source": [
    "binary_bag_train, vocabulary_train = create_binary_bag_of_words(X_train)\n",
    "X_train = binary_bag_train"
   ]
  },
  {
   "cell_type": "code",
   "execution_count": 13,
   "metadata": {},
   "outputs": [
    {
     "data": {
      "text/plain": [
       "30186"
      ]
     },
     "execution_count": 13,
     "metadata": {},
     "output_type": "execute_result"
    }
   ],
   "source": [
    "len(X_test)"
   ]
  },
  {
   "cell_type": "code",
   "execution_count": 14,
   "metadata": {},
   "outputs": [
    {
     "name": "stdout",
     "output_type": "stream",
     "text": [
      "0.15319187702908632 0.6324869144636587 0.19485026171072684 0.019470946796528193\n"
     ]
    }
   ],
   "source": [
    "one = np.count_nonzero(y_train == 1) / len(y_train)\n",
    "two = np.count_nonzero(y_train == 2) / len(y_train)\n",
    "three = np.count_nonzero(y_train == 3) / len(y_train)\n",
    "four = np.count_nonzero(y_train == 4) / len(y_train)\n",
    "\n",
    "print(one, two, three, four)"
   ]
  },
  {
   "cell_type": "code",
   "execution_count": 15,
   "metadata": {},
   "outputs": [
    {
     "data": {
      "text/plain": [
       "70988"
      ]
     },
     "execution_count": 15,
     "metadata": {},
     "output_type": "execute_result"
    }
   ],
   "source": [
    "V_size = len(vocabulary_train)\n",
    "V_size"
   ]
  },
  {
   "cell_type": "code",
   "execution_count": 16,
   "metadata": {},
   "outputs": [
    {
     "name": "stdout",
     "output_type": "stream",
     "text": [
      "369700\n",
      "1954313\n",
      "717135\n",
      "81954\n"
     ]
    }
   ],
   "source": [
    "total_one_words = 0\n",
    "total_two_words = 0\n",
    "total_three_words = 0\n",
    "total_four_words = 0\n",
    "\n",
    "\n",
    "for i in range(len(X_train)):\n",
    "    if y_train.iloc[i] == 1:\n",
    "        for number in X_train[i]:\n",
    "            total_one_words += number\n",
    "    elif y_train.iloc[i] == 2:\n",
    "        for number in X_train[i]:\n",
    "            total_two_words += number\n",
    "    elif y_train.iloc[i] == 3:\n",
    "        for number in X_train[i]:\n",
    "            total_three_words += number\n",
    "    elif y_train.iloc[i] == 4:\n",
    "        for number in X_train[i]:\n",
    "            total_four_words += number\n",
    "\n",
    "print(total_one_words)\n",
    "print(total_two_words)\n",
    "print(total_three_words)\n",
    "print(total_four_words)"
   ]
  },
  {
   "cell_type": "code",
   "execution_count": 17,
   "metadata": {},
   "outputs": [],
   "source": [
    "one_prob = {}\n",
    "two_prob = {}\n",
    "three_prob = {}\n",
    "four_prob = {}\n",
    "\n",
    "for i in range(len(X_train)):\n",
    "    if y_train.iloc[i] == 1:\n",
    "        # print(\"one\")\n",
    "        for j in range(len(X_train[i])):\n",
    "            if X_train[i][j] == 1:\n",
    "                if vocabulary_train[j] not in one_prob:\n",
    "                    one_prob[vocabulary_train[j]] = 2/(total_one_words+(1*V_size))\n",
    "                else:\n",
    "                    one_prob[vocabulary_train[j]] = one_prob[vocabulary_train[j]] + 1/(total_one_words+(1*V_size))\n",
    "                \n",
    "                if vocabulary_train[j] not in two_prob:\n",
    "                    two_prob[vocabulary_train[j]] = 1/(total_two_words+(1*V_size))\n",
    "                if vocabulary_train[j] not in three_prob:\n",
    "                    three_prob[vocabulary_train[j]] = 1/(total_three_words+(1*V_size))\n",
    "                if vocabulary_train[j] not in four_prob:\n",
    "                    four_prob[vocabulary_train[j]] = 1/(total_four_words+(1*V_size))\n",
    "                \n",
    "\n",
    "    elif y_train.iloc[i] == 2:\n",
    "        for j in range(len(X_train[i])):\n",
    "            # print(\"two\")\n",
    "            if X_train[i][j] == 1:\n",
    "                if vocabulary_train[j] not in two_prob:\n",
    "                    two_prob[vocabulary_train[j]] = 2/(total_two_words+(1*V_size))\n",
    "                else:\n",
    "                    two_prob[vocabulary_train[j]] = two_prob[vocabulary_train[j]] + 1/(total_two_words+(1*V_size))\n",
    "                \n",
    "                if vocabulary_train[j] not in one_prob:\n",
    "                    one_prob[vocabulary_train[j]] = 1/(total_one_words+(1*V_size))\n",
    "                if vocabulary_train[j] not in three_prob:\n",
    "                    three_prob[vocabulary_train[j]] = 1/(total_three_words+(1*V_size))\n",
    "                if vocabulary_train[j] not in four_prob:\n",
    "                    four_prob[vocabulary_train[j]] = 1/(total_four_words+(1*V_size))\n",
    "\n",
    "    elif y_train.iloc[i] == 3:\n",
    "        for j in range(len(X_train[i])):\n",
    "            # print(\"three\")\n",
    "            if X_train[i][j] == 1:\n",
    "                if vocabulary_train[j] not in three_prob:\n",
    "                    three_prob[vocabulary_train[j]] = 2/(total_three_words+(1*V_size))\n",
    "                else:\n",
    "                    three_prob[vocabulary_train[j]] = three_prob[vocabulary_train[j]] + 1/(total_three_words+(1*V_size))\n",
    "                \n",
    "                if vocabulary_train[j] not in one_prob:\n",
    "                    one_prob[vocabulary_train[j]] = 1/(total_one_words+(1*V_size))\n",
    "                if vocabulary_train[j] not in two_prob:\n",
    "                    two_prob[vocabulary_train[j]] = 1/(total_two_words+(1*V_size))\n",
    "                if vocabulary_train[j] not in four_prob:\n",
    "                    four_prob[vocabulary_train[j]] = 1/(total_four_words+(1*V_size))\n",
    "\n",
    "    else:\n",
    "        for j in range(len(X_train[i])):\n",
    "            # print(\"four\")\n",
    "            if X_train[i][j] == 1:\n",
    "                if vocabulary_train[j] not in four_prob:\n",
    "                    four_prob[vocabulary_train[j]] = 2/(total_four_words+(1*V_size))\n",
    "                else:\n",
    "                    four_prob[vocabulary_train[j]] = four_prob[vocabulary_train[j]] + 1/(total_four_words+(1*V_size))\n",
    "                \n",
    "                if vocabulary_train[j] not in one_prob:\n",
    "                    one_prob[vocabulary_train[j]] = 1/(total_one_words+(1*V_size))\n",
    "                if vocabulary_train[j] not in two_prob:\n",
    "                    two_prob[vocabulary_train[j]] = 1/(total_two_words+(1*V_size))\n",
    "                if vocabulary_train[j] not in three_prob:\n",
    "                    three_prob[vocabulary_train[j]] = 1/(total_three_words+(1*V_size))\n"
   ]
  },
  {
   "cell_type": "code",
   "execution_count": 18,
   "metadata": {},
   "outputs": [],
   "source": [
    "test_df = pd.DataFrame({\"Text\": X_test, \"Points\":y_test}).reset_index()\n",
    "predictions = []\n",
    "for row in test_df['Text']:\n",
    "    one_x = np.log(one)\n",
    "    two_x = np.log(two)\n",
    "    three_x = np.log(three)\n",
    "    four_x = np.log(four)\n",
    "\n",
    "    # pos = Prob_pos\n",
    "    # neg = Prob_neg\n",
    "    for word in row.split():\n",
    "        if word in vocabulary_train:\n",
    "            one_x += np.log(one_prob[word])\n",
    "            two_x += np.log(two_prob[word])\n",
    "            three_x += np.log(three_prob[word])\n",
    "            four_x += np.log(four_prob[word])\n",
    "            # pos *= pos_prob[word]\n",
    "            # neg *= neg_prob[word]\n",
    "    if max(one_x, two_x, three_x, four_x) == one_x:\n",
    "        predictions.append(1)\n",
    "    elif max(one_x, two_x, three_x, four_x) == two_x:\n",
    "        predictions.append(2)\n",
    "    elif max(one_x, two_x, three_x, four_x) == three_x:\n",
    "        predictions.append(3)\n",
    "    elif max(one_x, two_x, three_x, four_x) == four_x:\n",
    "        predictions.append(4)\n"
   ]
  },
  {
   "cell_type": "code",
   "execution_count": 19,
   "metadata": {},
   "outputs": [],
   "source": [
    "def create_metrics(actual, predicted):\n",
    "    TP = 0\n",
    "    TN = 0\n",
    "    FP = 0\n",
    "    FN = 0\n",
    "    for i in range(len(actual)):\n",
    "        if actual[i] == 3:\n",
    "            if actual[i] == predicted[i]:\n",
    "                TP += 1\n",
    "            else:\n",
    "                FN += 1\n",
    "        else:\n",
    "            if actual[i] == predicted[i]:\n",
    "                TN += 1\n",
    "            else:\n",
    "                FP += 1\n",
    "    recall = TP/(TP+FN)\n",
    "    specificity = TN/(TN+FP)\n",
    "    precision = TP/(TP+FP)\n",
    "    negative_predictive_value = TN/(TN+FN)\n",
    "    accuracy = (TP+TN)/(TN+TP+FP+FN)\n",
    "    F_score= 2*((recall*precision)/(recall+precision))\n",
    "\n",
    "    return TP, TN, FP, FN, recall, specificity, precision, negative_predictive_value, accuracy, F_score"
   ]
  },
  {
   "cell_type": "code",
   "execution_count": 20,
   "metadata": {},
   "outputs": [],
   "source": [
    "def predict(sentence):\n",
    "    onex = np.log(one)\n",
    "    twox = np.log(two)\n",
    "    threex = np.log(three)\n",
    "    fourx = np.log(four)\n",
    "\n",
    "    for word in sentence.split():\n",
    "        if word in vocabulary_train:\n",
    "            onex += np.log(one_prob[word])\n",
    "            twox += np.log(two_prob[word])\n",
    "            threex += np.log(three_prob[word])\n",
    "            fourx += np.log(four_prob[word])\n",
    "    return onex, twox ,threex, fourx\n"
   ]
  },
  {
   "cell_type": "code",
   "execution_count": 21,
   "metadata": {},
   "outputs": [],
   "source": [
    "TP, TN, FP, FN, recall, specificity, precision, negative_predictive_value, accuracy, F_score = create_metrics(test_df['Points'], predictions)"
   ]
  },
  {
   "cell_type": "code",
   "execution_count": 22,
   "metadata": {},
   "outputs": [
    {
     "name": "stdout",
     "output_type": "stream",
     "text": [
      "Number of true positives: 4005\n",
      "Number of true negatives: 18862\n",
      "Number of false positives: 5595\n",
      "Number of false negatives: 1724\n",
      "Sensitivity (recall): 0.6990748821783906\n",
      "Specificity: 0.7712311403688106\n",
      "Precision: 0.4171875\n",
      "Negative predictive value: 0.9162537646944525\n",
      "Accuracy: 0.7575366063738157\n",
      "F-score: 0.5225389784069411\n"
     ]
    }
   ],
   "source": [
    "\n",
    "\n",
    "print(f'Number of true positives: {TP}')\n",
    "print(f'Number of true negatives: {TN}')\n",
    "print(f'Number of false positives: {FP}')\n",
    "print(f'Number of false negatives: {FN}')\n",
    "print(f'Sensitivity (recall): {recall}')\n",
    "print(f'Specificity: {specificity}')\n",
    "print(f'Precision: {precision}')\n",
    "print(f'Negative predictive value: {negative_predictive_value}')\n",
    "print(f'Accuracy: {accuracy}')\n",
    "print(f'F-score: {F_score}')\n"
   ]
  },
  {
   "cell_type": "code",
   "execution_count": 23,
   "metadata": {},
   "outputs": [
    {
     "name": "stdout",
     "output_type": "stream",
     "text": [
      "Sentence S: \n",
      "best\n"
     ]
    }
   ],
   "source": [
    "S = input('Enter your sentence: ')\n",
    "print(f'Sentence S: \\n{S}')\n",
    "\n",
    "\n"
   ]
  },
  {
   "cell_type": "code",
   "execution_count": 24,
   "metadata": {},
   "outputs": [
    {
     "name": "stdout",
     "output_type": "stream",
     "text": [
      "Was classified as Class 2 (Lower Mid).\n",
      "P(Class 1 | S) = 6.952396118300753e-05\n",
      "P(Class 2 | S) = 0.0004778079797172984\n",
      "P(Class 3 | S) = 0.00027863194570896594\n",
      "P(Class 4 | S) = 2.2151827114827206e-05\n"
     ]
    }
   ],
   "source": [
    "onex, twox ,threex, fourx = predict(S)\n",
    "\n",
    "\n",
    "if onex > twox and onex > threex and onex > fourx:\n",
    "    classification = 'Class 1 (Least)'\n",
    "elif twox > onex and twox > threex and twox > fourx:\n",
    "    classification = 'Class 2 (Lower Mid)'\n",
    "elif threex > onex and threex > twox and threex > fourx:\n",
    "    classification = 'Class 3 (Upper Mid)'\n",
    "elif fourx > onex and fourx > twox and fourx > threex:\n",
    "    classification = 'Class 4 (Most)'\n",
    "\n",
    "print(f'Was classified as {classification}.')\n",
    "print(f'P(Class 1 | S) = {np.e**onex}')\n",
    "print(f'P(Class 2 | S) = {np.e**twox}')\n",
    "print(f'P(Class 3 | S) = {np.e**threex}')\n",
    "print(f'P(Class 4 | S) = {np.e**fourx}')"
   ]
  },
  {
   "cell_type": "code",
   "execution_count": 57,
   "metadata": {},
   "outputs": [
    {
     "data": {
      "text/html": [
       "<div>\n",
       "<style scoped>\n",
       "    .dataframe tbody tr th:only-of-type {\n",
       "        vertical-align: middle;\n",
       "    }\n",
       "\n",
       "    .dataframe tbody tr th {\n",
       "        vertical-align: top;\n",
       "    }\n",
       "\n",
       "    .dataframe thead th {\n",
       "        text-align: right;\n",
       "    }\n",
       "</style>\n",
       "<table border=\"1\" class=\"dataframe\">\n",
       "  <thead>\n",
       "    <tr style=\"text-align: right;\">\n",
       "      <th></th>\n",
       "      <th>index</th>\n",
       "      <th>Text</th>\n",
       "      <th>Points</th>\n",
       "    </tr>\n",
       "  </thead>\n",
       "  <tbody>\n",
       "    <tr>\n",
       "      <th>6</th>\n",
       "      <td>52269</td>\n",
       "      <td>Although Cab quite tannic, really good now. Sh...</td>\n",
       "      <td>4</td>\n",
       "    </tr>\n",
       "    <tr>\n",
       "      <th>8</th>\n",
       "      <td>74064</td>\n",
       "      <td>A brilliant Chardonnay, displaying terroir fin...</td>\n",
       "      <td>4</td>\n",
       "    </tr>\n",
       "    <tr>\n",
       "      <th>48</th>\n",
       "      <td>10775</td>\n",
       "      <td>Kracher always produces blend range TBAs. This...</td>\n",
       "      <td>4</td>\n",
       "    </tr>\n",
       "    <tr>\n",
       "      <th>89</th>\n",
       "      <td>26666</td>\n",
       "      <td>A wonderfully drinkable beerenauslese, makes s...</td>\n",
       "      <td>4</td>\n",
       "    </tr>\n",
       "    <tr>\n",
       "      <th>108</th>\n",
       "      <td>28611</td>\n",
       "      <td>All Cabernet Champoux, Klipsun, Palengat Wallu...</td>\n",
       "      <td>4</td>\n",
       "    </tr>\n",
       "    <tr>\n",
       "      <th>...</th>\n",
       "      <td>...</td>\n",
       "      <td>...</td>\n",
       "      <td>...</td>\n",
       "    </tr>\n",
       "    <tr>\n",
       "      <th>29798</th>\n",
       "      <td>106784</td>\n",
       "      <td>94-96 Barrel sample. Firm tannins, wine packed...</td>\n",
       "      <td>4</td>\n",
       "    </tr>\n",
       "    <tr>\n",
       "      <th>29819</th>\n",
       "      <td>150562</td>\n",
       "      <td>As unevolved are, dense multilayered aromas fl...</td>\n",
       "      <td>4</td>\n",
       "    </tr>\n",
       "    <tr>\n",
       "      <th>29950</th>\n",
       "      <td>92450</td>\n",
       "      <td>With majority Chardonnay blend, turned wonderf...</td>\n",
       "      <td>4</td>\n",
       "    </tr>\n",
       "    <tr>\n",
       "      <th>29972</th>\n",
       "      <td>90727</td>\n",
       "      <td>There's grace purity Pinot Noir make particula...</td>\n",
       "      <td>4</td>\n",
       "    </tr>\n",
       "    <tr>\n",
       "      <th>30000</th>\n",
       "      <td>107564</td>\n",
       "      <td>94—96 Barrel sample. The white wine Haut-Brion...</td>\n",
       "      <td>4</td>\n",
       "    </tr>\n",
       "  </tbody>\n",
       "</table>\n",
       "<p>630 rows × 3 columns</p>\n",
       "</div>"
      ],
      "text/plain": [
       "        index                                               Text Points\n",
       "6       52269  Although Cab quite tannic, really good now. Sh...      4\n",
       "8       74064  A brilliant Chardonnay, displaying terroir fin...      4\n",
       "48      10775  Kracher always produces blend range TBAs. This...      4\n",
       "89      26666  A wonderfully drinkable beerenauslese, makes s...      4\n",
       "108     28611  All Cabernet Champoux, Klipsun, Palengat Wallu...      4\n",
       "...       ...                                                ...    ...\n",
       "29798  106784  94-96 Barrel sample. Firm tannins, wine packed...      4\n",
       "29819  150562  As unevolved are, dense multilayered aromas fl...      4\n",
       "29950   92450  With majority Chardonnay blend, turned wonderf...      4\n",
       "29972   90727  There's grace purity Pinot Noir make particula...      4\n",
       "30000  107564  94—96 Barrel sample. The white wine Haut-Brion...      4\n",
       "\n",
       "[630 rows x 3 columns]"
      ]
     },
     "execution_count": 57,
     "metadata": {},
     "output_type": "execute_result"
    }
   ],
   "source": [
    "test_df[test_df['Points']==4]"
   ]
  },
  {
   "cell_type": "code",
   "execution_count": 41,
   "metadata": {},
   "outputs": [],
   "source": [
    "predictions_array = np.array(predictions)  # Convert to NumPy array"
   ]
  },
  {
   "cell_type": "code",
   "execution_count": 64,
   "metadata": {},
   "outputs": [
    {
     "data": {
      "image/png": "[encoded data removed]",
      "text/plain": [
       "<Figure size 640x480 with 1 Axes>"
      ]
     },
     "metadata": {},
     "output_type": "display_data"
    }
   ],
   "source": [
    "\n",
    "\n",
    "y_test_binarized=label_binarize(y_test,classes=np.unique(y_test))\n",
    "\n",
    "fpr = {}\n",
    "tpr = {}\n",
    "thresh ={}\n",
    "roc_auc = dict()\n",
    "\n",
    "n_class = y_test_binarized.shape[1]\n",
    "\n",
    "for i in range(n_class):\n",
    "    fpr[i], tpr[i], thresh[i] = roc_curve(y_test_binarized[:, i], predictions)\n",
    "    roc_auc[i] = auc(fpr[i], tpr[i])\n",
    " \n",
    "    plt.plot(fpr[i], tpr[i])\n",
    "\n",
    "\n",
    "plt.plot([0,1],[0,1],'b--')\n",
    "plt.xlim([0,1])\n",
    "plt.ylim([0,1.05])\n",
    "plt.title('Multiclass ROC curve')\n",
    "plt.xlabel('False Positive Rate')\n",
    "plt.ylabel('True Positive rate')\n",
    "plt.legend(labels)\n",
    "plt.show()"
   ]
  },
  {
   "cell_type": "code",
   "execution_count": 55,
   "metadata": {},
   "outputs": [
    {
     "data": {
      "image/png": "[encoded data removed]",
      "text/plain": [
       "<Figure size 640x480 with 2 Axes>"
      ]
     },
     "metadata": {
      "needs_background": "light"
     },
     "output_type": "display_data"
    }
   ],
   "source": [
    "labels = [4,3,2,1]\n",
    "\n",
    "cm = confusion_matrix(test_df['Points'], predictions)\n",
    "\n",
    "cmap = LinearSegmentedColormap.from_list('custom_cmap', [\"#2D398B\", \"#C14169\"])\n",
    "\n",
    "sns.set(font_scale=1.4)\n",
    "sns.heatmap(cm, annot=True, annot_kws={\"size\": 16}, cmap=cmap, fmt='d', xticklabels=labels, yticklabels=labels)\n",
    "\n",
    "\n",
    "fig = plt.gcf()\n",
    "fig.patch.set_facecolor('none')\n",
    "fig.patch.set_alpha(0.0)\n",
    "plt.xlabel('Predicted labels')\n",
    "plt.ylabel('True labels')\n",
    "plt.title('Confusion matrix')\n",
    "plt.show()\n"
   ]
  },
  {
   "cell_type": "code",
   "execution_count": 68,
   "metadata": {},
   "outputs": [
    {
     "name": "stdout",
     "output_type": "stream",
     "text": [
      "Sentence S: \n",
      "delicious amazing\n",
      "Was classified as Class 3 (Upper Mid).\n",
      "P(Class 1 | S) = 8.755808748268453e-11\n",
      "P(Class 2 | S) = 8.767878470624676e-09\n",
      "P(Class 3 | S) = 3.72046890242346e-08\n",
      "P(Class 4 | S) = 5.806009630197126e-09\n",
      "Sentence S: \n",
      "tannic really good\n",
      "Was classified as Class 2 (Lower Mid).\n",
      "P(Class 1 | S) = 3.4794304786597073e-10\n",
      "P(Class 2 | S) = 1.1096517238978998e-09\n",
      "P(Class 3 | S) = 2.406463638893382e-10\n",
      "P(Class 4 | S) = 1.848635037643533e-12\n",
      "Sentence S: \n",
      "brilliant\n",
      "Was classified as Class 3 (Upper Mid).\n",
      "P(Class 1 | S) = 3.1285782532353394e-06\n",
      "P(Class 2 | S) = 3.185386531448564e-05\n",
      "P(Class 3 | S) = 3.6096063951649784e-05\n",
      "P(Class 4 | S) = 5.092374049385571e-06\n",
      "Sentence S: \n",
      "brilliant really good amazing delicious the best wine ever to be produced\n",
      "Was classified as Class 3 (Upper Mid).\n",
      "P(Class 1 | S) = 6.394273207524132e-35\n",
      "P(Class 2 | S) = 5.94855866983566e-32\n",
      "P(Class 3 | S) = 6.0898521810721125e-30\n",
      "P(Class 4 | S) = 8.423556983796045e-32\n"
     ]
    }
   ],
   "source": [
    "\n",
    "running=True\n",
    "\n",
    "while running:\n",
    "    S = input('Enter your sentence: ')\n",
    "    print(f'Sentence S: \\n{S}')\n",
    "    onex, twox ,threex, fourx = predict(S)\n",
    "    if onex > twox and onex > threex and onex > fourx:\n",
    "        classification = 'Class 1 (Least)'\n",
    "    elif twox > onex and twox > threex and twox > fourx:\n",
    "        classification = 'Class 2 (Lower Mid)'\n",
    "    elif threex > onex and threex > twox and threex > fourx:\n",
    "        classification = 'Class 3 (Upper Mid)'\n",
    "    elif fourx > onex and fourx > twox and fourx > threex:\n",
    "        classification = 'Class 4 (Most)'\n",
    "\n",
    "    print(f'Was classified as {classification}.')\n",
    "    print(f'P(Class 1 | S) = {np.e**onex}')\n",
    "    print(f'P(Class 2 | S) = {np.e**twox}')\n",
    "    print(f'P(Class 3 | S) = {np.e**threex}')\n",
    "    print(f'P(Class 4 | S) = {np.e**fourx}')\n",
    "\n",
    "    run = input('Do you want to continue? (Y/N): ')\n",
    "    if run != 'Y' and run != 'y':\n",
    "        running = False\n",
    "        break\n"
   ]
  }
 ],
 "metadata": {
  "kernelspec": {
   "display_name": "base",
   "language": "python",
   "name": "python3"
  },
  "language_info": {
   "codemirror_mode": {
    "name": "ipython",
    "version": 3
   },
   "file_extension": ".py",
   "mimetype": "text/x-python",
   "name": "python",
   "nbconvert_exporter": "python",
   "pygments_lexer": "ipython3",
   "version": "3.11.5"
  }
 },
 "nbformat": 4,
 "nbformat_minor": 2
}
