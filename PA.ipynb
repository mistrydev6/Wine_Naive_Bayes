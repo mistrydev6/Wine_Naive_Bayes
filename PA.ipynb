{
 "cells": [
  {
   "cell_type": "code",
   "execution_count": 64,
   "metadata": {},
   "outputs": [],
   "source": [
    "import numpy as np\n",
    "import pandas as pd\n",
    "from nltk.corpus import stopwords\n",
    "from sklearn.model_selection import train_test_split\n",
    "from sklearn.metrics import roc_curve, confusion_matrix\n",
    "import matplotlib.pyplot as plt\n",
    "import seaborn as sns\n",
    "from matplotlib.colors import LinearSegmentedColormap\n"
   ]
  },
  {
   "cell_type": "code",
   "execution_count": 65,
   "metadata": {},
   "outputs": [],
   "source": [
    "data = pd.read_csv('data.csv')\n",
    "\n",
    "stop = stopwords.words('english')\n",
    "x = data.description\n",
    "y = data.points"
   ]
  },
  {
   "cell_type": "code",
   "execution_count": 66,
   "metadata": {},
   "outputs": [
    {
     "ename": "KeyboardInterrupt",
     "evalue": "",
     "output_type": "error",
     "traceback": [
      "\u001b[1;31m---------------------------------------------------------------------------\u001b[0m",
      "\u001b[1;31mKeyboardInterrupt\u001b[0m                         Traceback (most recent call last)",
      "Cell \u001b[1;32mIn[66], line 6\u001b[0m\n\u001b[0;32m      4\u001b[0m \u001b[38;5;28;01mif\u001b[39;00m IGNORE \u001b[38;5;241m==\u001b[39m \u001b[38;5;28;01mFalse\u001b[39;00m:\n\u001b[0;32m      5\u001b[0m     review \u001b[38;5;241m=\u001b[39m x[i]\u001b[38;5;241m.\u001b[39msplit(\u001b[38;5;124m\"\u001b[39m\u001b[38;5;124m \u001b[39m\u001b[38;5;124m\"\u001b[39m)\n\u001b[1;32m----> 6\u001b[0m     review \u001b[38;5;241m=\u001b[39m [word \u001b[38;5;28;01mfor\u001b[39;00m word \u001b[38;5;129;01min\u001b[39;00m review \u001b[38;5;28;01mif\u001b[39;00m word \u001b[38;5;129;01mnot\u001b[39;00m \u001b[38;5;129;01min\u001b[39;00m stop]\n\u001b[0;32m      7\u001b[0m     review \u001b[38;5;241m=\u001b[39m \u001b[38;5;124m'\u001b[39m\u001b[38;5;124m \u001b[39m\u001b[38;5;124m'\u001b[39m\u001b[38;5;241m.\u001b[39mjoin(review)\n\u001b[0;32m      8\u001b[0m     corpus\u001b[38;5;241m.\u001b[39mappend(review)\n",
      "Cell \u001b[1;32mIn[66], line 6\u001b[0m, in \u001b[0;36m<listcomp>\u001b[1;34m(.0)\u001b[0m\n\u001b[0;32m      4\u001b[0m \u001b[38;5;28;01mif\u001b[39;00m IGNORE \u001b[38;5;241m==\u001b[39m \u001b[38;5;28;01mFalse\u001b[39;00m:\n\u001b[0;32m      5\u001b[0m     review \u001b[38;5;241m=\u001b[39m x[i]\u001b[38;5;241m.\u001b[39msplit(\u001b[38;5;124m\"\u001b[39m\u001b[38;5;124m \u001b[39m\u001b[38;5;124m\"\u001b[39m)\n\u001b[1;32m----> 6\u001b[0m     review \u001b[38;5;241m=\u001b[39m [word \u001b[38;5;28;01mfor\u001b[39;00m word \u001b[38;5;129;01min\u001b[39;00m review \u001b[38;5;28;01mif\u001b[39;00m word \u001b[38;5;129;01mnot\u001b[39;00m \u001b[38;5;129;01min\u001b[39;00m stop]\n\u001b[0;32m      7\u001b[0m     review \u001b[38;5;241m=\u001b[39m \u001b[38;5;124m'\u001b[39m\u001b[38;5;124m \u001b[39m\u001b[38;5;124m'\u001b[39m\u001b[38;5;241m.\u001b[39mjoin(review)\n\u001b[0;32m      8\u001b[0m     corpus\u001b[38;5;241m.\u001b[39mappend(review)\n",
      "\u001b[1;31mKeyboardInterrupt\u001b[0m: "
     ]
    }
   ],
   "source": [
    "corpus = []\n",
    "IGNORE = False\n",
    "for i in range(len(x)):\n",
    "    if IGNORE == False:\n",
    "        review = x[i].split(\" \")\n",
    "        review = [word for word in review if word not in stop]\n",
    "        review = ' '.join(review)\n",
    "        corpus.append(review)\n",
    "    else:\n",
    "        review = [i].split(\" \")\n",
    "        review = [word for word in review]\n",
    "        review = ' '.join(review)\n",
    "        corpus.append(review)    \n"
   ]
  },
  {
   "cell_type": "code",
   "execution_count": null,
   "metadata": {},
   "outputs": [
    {
     "data": {
      "text/html": [
       "<div>\n",
       "<style scoped>\n",
       "    .dataframe tbody tr th:only-of-type {\n",
       "        vertical-align: middle;\n",
       "    }\n",
       "\n",
       "    .dataframe tbody tr th {\n",
       "        vertical-align: top;\n",
       "    }\n",
       "\n",
       "    .dataframe thead th {\n",
       "        text-align: right;\n",
       "    }\n",
       "</style>\n",
       "<table border=\"1\" class=\"dataframe\">\n",
       "  <thead>\n",
       "    <tr style=\"text-align: right;\">\n",
       "      <th></th>\n",
       "      <th>Description</th>\n",
       "      <th>Points</th>\n",
       "    </tr>\n",
       "  </thead>\n",
       "  <tbody>\n",
       "    <tr>\n",
       "      <th>0</th>\n",
       "      <td>This tremendous 100% varietal wine hails Oakvi...</td>\n",
       "      <td>96</td>\n",
       "    </tr>\n",
       "    <tr>\n",
       "      <th>1</th>\n",
       "      <td>Ripe aromas fig, blackberry cassis softened sw...</td>\n",
       "      <td>96</td>\n",
       "    </tr>\n",
       "    <tr>\n",
       "      <th>2</th>\n",
       "      <td>Mac Watson honors memory wine made mother trem...</td>\n",
       "      <td>96</td>\n",
       "    </tr>\n",
       "    <tr>\n",
       "      <th>3</th>\n",
       "      <td>This spent 20 months 30% new French oak, incor...</td>\n",
       "      <td>96</td>\n",
       "    </tr>\n",
       "    <tr>\n",
       "      <th>4</th>\n",
       "      <td>This top wine La Bégude, named highest point v...</td>\n",
       "      <td>95</td>\n",
       "    </tr>\n",
       "    <tr>\n",
       "      <th>...</th>\n",
       "      <td>...</td>\n",
       "      <td>...</td>\n",
       "    </tr>\n",
       "    <tr>\n",
       "      <th>150925</th>\n",
       "      <td>Many people feel Fiano represents southern Ita...</td>\n",
       "      <td>91</td>\n",
       "    </tr>\n",
       "    <tr>\n",
       "      <th>150926</th>\n",
       "      <td>Offers intriguing nose ginger, lime floral ele...</td>\n",
       "      <td>91</td>\n",
       "    </tr>\n",
       "    <tr>\n",
       "      <th>150927</th>\n",
       "      <td>This classic example comes cru vineyard called...</td>\n",
       "      <td>91</td>\n",
       "    </tr>\n",
       "    <tr>\n",
       "      <th>150928</th>\n",
       "      <td>A perfect salmon shade, scents peaches, cherri...</td>\n",
       "      <td>90</td>\n",
       "    </tr>\n",
       "    <tr>\n",
       "      <th>150929</th>\n",
       "      <td>More Pinot Grigios taste like this. A rich pea...</td>\n",
       "      <td>90</td>\n",
       "    </tr>\n",
       "  </tbody>\n",
       "</table>\n",
       "<p>150930 rows × 2 columns</p>\n",
       "</div>"
      ],
      "text/plain": [
       "                                              Description  Points\n",
       "0       This tremendous 100% varietal wine hails Oakvi...      96\n",
       "1       Ripe aromas fig, blackberry cassis softened sw...      96\n",
       "2       Mac Watson honors memory wine made mother trem...      96\n",
       "3       This spent 20 months 30% new French oak, incor...      96\n",
       "4       This top wine La Bégude, named highest point v...      95\n",
       "...                                                   ...     ...\n",
       "150925  Many people feel Fiano represents southern Ita...      91\n",
       "150926  Offers intriguing nose ginger, lime floral ele...      91\n",
       "150927  This classic example comes cru vineyard called...      91\n",
       "150928  A perfect salmon shade, scents peaches, cherri...      90\n",
       "150929  More Pinot Grigios taste like this. A rich pea...      90\n",
       "\n",
       "[150930 rows x 2 columns]"
      ]
     },
     "execution_count": 7,
     "metadata": {},
     "output_type": "execute_result"
    }
   ],
   "source": [
    "df = pd.DataFrame({\"Description\": corpus, \"Points\":y})\n",
    "\n",
    "df"
   ]
  },
  {
   "cell_type": "code",
   "execution_count": null,
   "metadata": {},
   "outputs": [
    {
     "data": {
      "text/html": [
       "<div>\n",
       "<style scoped>\n",
       "    .dataframe tbody tr th:only-of-type {\n",
       "        vertical-align: middle;\n",
       "    }\n",
       "\n",
       "    .dataframe tbody tr th {\n",
       "        vertical-align: top;\n",
       "    }\n",
       "\n",
       "    .dataframe thead th {\n",
       "        text-align: right;\n",
       "    }\n",
       "</style>\n",
       "<table border=\"1\" class=\"dataframe\">\n",
       "  <thead>\n",
       "    <tr style=\"text-align: right;\">\n",
       "      <th></th>\n",
       "      <th>Description</th>\n",
       "      <th>Points</th>\n",
       "      <th>Points_Class</th>\n",
       "    </tr>\n",
       "  </thead>\n",
       "  <tbody>\n",
       "    <tr>\n",
       "      <th>0</th>\n",
       "      <td>This tremendous 100% varietal wine hails Oakvi...</td>\n",
       "      <td>96</td>\n",
       "      <td>4</td>\n",
       "    </tr>\n",
       "    <tr>\n",
       "      <th>1</th>\n",
       "      <td>Ripe aromas fig, blackberry cassis softened sw...</td>\n",
       "      <td>96</td>\n",
       "      <td>4</td>\n",
       "    </tr>\n",
       "    <tr>\n",
       "      <th>2</th>\n",
       "      <td>Mac Watson honors memory wine made mother trem...</td>\n",
       "      <td>96</td>\n",
       "      <td>4</td>\n",
       "    </tr>\n",
       "    <tr>\n",
       "      <th>3</th>\n",
       "      <td>This spent 20 months 30% new French oak, incor...</td>\n",
       "      <td>96</td>\n",
       "      <td>4</td>\n",
       "    </tr>\n",
       "    <tr>\n",
       "      <th>4</th>\n",
       "      <td>This top wine La Bégude, named highest point v...</td>\n",
       "      <td>95</td>\n",
       "      <td>4</td>\n",
       "    </tr>\n",
       "    <tr>\n",
       "      <th>...</th>\n",
       "      <td>...</td>\n",
       "      <td>...</td>\n",
       "      <td>...</td>\n",
       "    </tr>\n",
       "    <tr>\n",
       "      <th>150925</th>\n",
       "      <td>Many people feel Fiano represents southern Ita...</td>\n",
       "      <td>91</td>\n",
       "      <td>3</td>\n",
       "    </tr>\n",
       "    <tr>\n",
       "      <th>150926</th>\n",
       "      <td>Offers intriguing nose ginger, lime floral ele...</td>\n",
       "      <td>91</td>\n",
       "      <td>3</td>\n",
       "    </tr>\n",
       "    <tr>\n",
       "      <th>150927</th>\n",
       "      <td>This classic example comes cru vineyard called...</td>\n",
       "      <td>91</td>\n",
       "      <td>3</td>\n",
       "    </tr>\n",
       "    <tr>\n",
       "      <th>150928</th>\n",
       "      <td>A perfect salmon shade, scents peaches, cherri...</td>\n",
       "      <td>90</td>\n",
       "      <td>2</td>\n",
       "    </tr>\n",
       "    <tr>\n",
       "      <th>150929</th>\n",
       "      <td>More Pinot Grigios taste like this. A rich pea...</td>\n",
       "      <td>90</td>\n",
       "      <td>2</td>\n",
       "    </tr>\n",
       "  </tbody>\n",
       "</table>\n",
       "<p>150930 rows × 3 columns</p>\n",
       "</div>"
      ],
      "text/plain": [
       "                                              Description  Points Points_Class\n",
       "0       This tremendous 100% varietal wine hails Oakvi...      96            4\n",
       "1       Ripe aromas fig, blackberry cassis softened sw...      96            4\n",
       "2       Mac Watson honors memory wine made mother trem...      96            4\n",
       "3       This spent 20 months 30% new French oak, incor...      96            4\n",
       "4       This top wine La Bégude, named highest point v...      95            4\n",
       "...                                                   ...     ...          ...\n",
       "150925  Many people feel Fiano represents southern Ita...      91            3\n",
       "150926  Offers intriguing nose ginger, lime floral ele...      91            3\n",
       "150927  This classic example comes cru vineyard called...      91            3\n",
       "150928  A perfect salmon shade, scents peaches, cherri...      90            2\n",
       "150929  More Pinot Grigios taste like this. A rich pea...      90            2\n",
       "\n",
       "[150930 rows x 3 columns]"
      ]
     },
     "execution_count": 8,
     "metadata": {},
     "output_type": "execute_result"
    }
   ],
   "source": [
    "bins = [80, 84, 90, 94, 100]\n",
    "labels = [1, 2, 3, 4]\n",
    "\n",
    "\n",
    "df['Points_Class'] = pd.cut(df['Points'], bins=bins, labels=labels, include_lowest=True)\n",
    "\n",
    "df"
   ]
  },
  {
   "cell_type": "code",
   "execution_count": null,
   "metadata": {},
   "outputs": [
    {
     "name": "stdout",
     "output_type": "stream",
     "text": [
      "0.1536937653216723\n",
      "0.6327171536473862\n",
      "0.19383820314052871\n",
      "0.019750877890412775\n"
     ]
    }
   ],
   "source": [
    "p1=len(df[df['Points_Class'] == 1])/len(df)\n",
    "p2=len(df[df['Points_Class'] == 2])/len(df)\n",
    "p3=len(df[df['Points_Class'] == 3])/len(df)\n",
    "p4=len(df[df['Points_Class'] == 4])/len(df)\n",
    "\n",
    "print(p1)\n",
    "print(p2)\n",
    "print(p3)\n",
    "print(p4)\n"
   ]
  },
  {
   "cell_type": "code",
   "execution_count": null,
   "metadata": {},
   "outputs": [],
   "source": [
    "def create_binary_bag_of_words(documents):\n",
    "    vocabulary = set()\n",
    "    binary_bow = []\n",
    "\n",
    "    # build vocabulary\n",
    "    for doc in documents:\n",
    "        words = doc.split()\n",
    "        for word in words:\n",
    "            vocabulary.add(word)\n",
    "\n",
    "    # create binary bag of words\n",
    "    for doc in documents:\n",
    "        binary_vector = []\n",
    "        words = doc.split()\n",
    "        for word in vocabulary:\n",
    "            if word in words:\n",
    "                binary_vector.append(1)\n",
    "            else:\n",
    "                binary_vector.append(0)\n",
    "        binary_bow.append(binary_vector)\n",
    "\n",
    "    return binary_bow, list(vocabulary)"
   ]
  },
  {
   "cell_type": "code",
   "execution_count": null,
   "metadata": {},
   "outputs": [],
   "source": [
    "df2 = pd.DataFrame({\"Text\": corpus, \"Points\":df[\"Points_Class\"]})\n"
   ]
  },
  {
   "cell_type": "code",
   "execution_count": null,
   "metadata": {},
   "outputs": [
    {
     "data": {
      "text/html": [
       "<div>\n",
       "<style scoped>\n",
       "    .dataframe tbody tr th:only-of-type {\n",
       "        vertical-align: middle;\n",
       "    }\n",
       "\n",
       "    .dataframe tbody tr th {\n",
       "        vertical-align: top;\n",
       "    }\n",
       "\n",
       "    .dataframe thead th {\n",
       "        text-align: right;\n",
       "    }\n",
       "</style>\n",
       "<table border=\"1\" class=\"dataframe\">\n",
       "  <thead>\n",
       "    <tr style=\"text-align: right;\">\n",
       "      <th></th>\n",
       "      <th>Text</th>\n",
       "      <th>Points</th>\n",
       "    </tr>\n",
       "  </thead>\n",
       "  <tbody>\n",
       "    <tr>\n",
       "      <th>0</th>\n",
       "      <td>This tremendous 100% varietal wine hails Oakvi...</td>\n",
       "      <td>4</td>\n",
       "    </tr>\n",
       "    <tr>\n",
       "      <th>1</th>\n",
       "      <td>Ripe aromas fig, blackberry cassis softened sw...</td>\n",
       "      <td>4</td>\n",
       "    </tr>\n",
       "    <tr>\n",
       "      <th>2</th>\n",
       "      <td>Mac Watson honors memory wine made mother trem...</td>\n",
       "      <td>4</td>\n",
       "    </tr>\n",
       "    <tr>\n",
       "      <th>3</th>\n",
       "      <td>This spent 20 months 30% new French oak, incor...</td>\n",
       "      <td>4</td>\n",
       "    </tr>\n",
       "    <tr>\n",
       "      <th>4</th>\n",
       "      <td>This top wine La Bégude, named highest point v...</td>\n",
       "      <td>4</td>\n",
       "    </tr>\n",
       "    <tr>\n",
       "      <th>...</th>\n",
       "      <td>...</td>\n",
       "      <td>...</td>\n",
       "    </tr>\n",
       "    <tr>\n",
       "      <th>150925</th>\n",
       "      <td>Many people feel Fiano represents southern Ita...</td>\n",
       "      <td>3</td>\n",
       "    </tr>\n",
       "    <tr>\n",
       "      <th>150926</th>\n",
       "      <td>Offers intriguing nose ginger, lime floral ele...</td>\n",
       "      <td>3</td>\n",
       "    </tr>\n",
       "    <tr>\n",
       "      <th>150927</th>\n",
       "      <td>This classic example comes cru vineyard called...</td>\n",
       "      <td>3</td>\n",
       "    </tr>\n",
       "    <tr>\n",
       "      <th>150928</th>\n",
       "      <td>A perfect salmon shade, scents peaches, cherri...</td>\n",
       "      <td>2</td>\n",
       "    </tr>\n",
       "    <tr>\n",
       "      <th>150929</th>\n",
       "      <td>More Pinot Grigios taste like this. A rich pea...</td>\n",
       "      <td>2</td>\n",
       "    </tr>\n",
       "  </tbody>\n",
       "</table>\n",
       "<p>150930 rows × 2 columns</p>\n",
       "</div>"
      ],
      "text/plain": [
       "                                                     Text Points\n",
       "0       This tremendous 100% varietal wine hails Oakvi...      4\n",
       "1       Ripe aromas fig, blackberry cassis softened sw...      4\n",
       "2       Mac Watson honors memory wine made mother trem...      4\n",
       "3       This spent 20 months 30% new French oak, incor...      4\n",
       "4       This top wine La Bégude, named highest point v...      4\n",
       "...                                                   ...    ...\n",
       "150925  Many people feel Fiano represents southern Ita...      3\n",
       "150926  Offers intriguing nose ginger, lime floral ele...      3\n",
       "150927  This classic example comes cru vineyard called...      3\n",
       "150928  A perfect salmon shade, scents peaches, cherri...      2\n",
       "150929  More Pinot Grigios taste like this. A rich pea...      2\n",
       "\n",
       "[150930 rows x 2 columns]"
      ]
     },
     "execution_count": 12,
     "metadata": {},
     "output_type": "execute_result"
    }
   ],
   "source": [
    "df2"
   ]
  },
  {
   "cell_type": "code",
   "execution_count": null,
   "metadata": {},
   "outputs": [],
   "source": [
    "X_train, X_test, y_train, y_test = train_test_split(df2[\"Text\"], df2[\"Points\"], test_size=0.2, random_state=20454593)"
   ]
  },
  {
   "cell_type": "code",
   "execution_count": null,
   "metadata": {},
   "outputs": [],
   "source": [
    "binary_bag_train, vocabulary_train = create_binary_bag_of_words(X_train)\n",
    "X_train = binary_bag_train"
   ]
  },
  {
   "cell_type": "code",
   "execution_count": null,
   "metadata": {},
   "outputs": [
    {
     "data": {
      "text/plain": [
       "30186"
      ]
     },
     "execution_count": 15,
     "metadata": {},
     "output_type": "execute_result"
    }
   ],
   "source": [
    "len(X_test)"
   ]
  },
  {
   "cell_type": "code",
   "execution_count": null,
   "metadata": {},
   "outputs": [
    {
     "name": "stdout",
     "output_type": "stream",
     "text": [
      "0.15364738620552573 0.6324123765984231 0.1940800371032929 0.019860200092758233\n"
     ]
    }
   ],
   "source": [
    "one = np.count_nonzero(y_train == 1) / len(y_train)\n",
    "two = np.count_nonzero(y_train == 2) / len(y_train)\n",
    "three = np.count_nonzero(y_train == 3) / len(y_train)\n",
    "four = np.count_nonzero(y_train == 4) / len(y_train)\n",
    "\n",
    "print(one, two, three, four)"
   ]
  },
  {
   "cell_type": "code",
   "execution_count": null,
   "metadata": {},
   "outputs": [
    {
     "data": {
      "text/plain": [
       "70951"
      ]
     },
     "execution_count": 17,
     "metadata": {},
     "output_type": "execute_result"
    }
   ],
   "source": [
    "V_size = len(vocabulary_train)\n",
    "V_size"
   ]
  },
  {
   "cell_type": "code",
   "execution_count": null,
   "metadata": {},
   "outputs": [
    {
     "name": "stdout",
     "output_type": "stream",
     "text": [
      "370362\n",
      "1952574\n",
      "713473\n",
      "83637\n"
     ]
    }
   ],
   "source": [
    "total_one_words = 0\n",
    "total_two_words = 0\n",
    "total_three_words = 0\n",
    "total_four_words = 0\n",
    "\n",
    "\n",
    "for i in range(len(X_train)):\n",
    "    if y_train.iloc[i] == 1:\n",
    "        for number in X_train[i]:\n",
    "            total_one_words += number\n",
    "    elif y_train.iloc[i] == 2:\n",
    "        for number in X_train[i]:\n",
    "            total_two_words += number\n",
    "    elif y_train.iloc[i] == 3:\n",
    "        for number in X_train[i]:\n",
    "            total_three_words += number\n",
    "    elif y_train.iloc[i] == 4:\n",
    "        for number in X_train[i]:\n",
    "            total_four_words += number\n",
    "\n",
    "print(total_one_words)\n",
    "print(total_two_words)\n",
    "print(total_three_words)\n",
    "print(total_four_words)"
   ]
  },
  {
   "cell_type": "code",
   "execution_count": null,
   "metadata": {},
   "outputs": [],
   "source": [
    "one_prob = {}\n",
    "two_prob = {}\n",
    "three_prob = {}\n",
    "four_prob = {}\n",
    "\n",
    "for i in range(len(X_train)):\n",
    "    if y_train.iloc[i] == 1:\n",
    "        # print(\"one\")\n",
    "        for j in range(len(X_train[i])):\n",
    "            if X_train[i][j] == 1:\n",
    "                if vocabulary_train[j] not in one_prob:\n",
    "                    one_prob[vocabulary_train[j]] = 2/(total_one_words+(1*V_size))\n",
    "                else:\n",
    "                    one_prob[vocabulary_train[j]] = one_prob[vocabulary_train[j]] + 1/(total_one_words+(1*V_size))\n",
    "                \n",
    "                if vocabulary_train[j] not in two_prob:\n",
    "                    two_prob[vocabulary_train[j]] = 1/(total_two_words+(1*V_size))\n",
    "                if vocabulary_train[j] not in three_prob:\n",
    "                    three_prob[vocabulary_train[j]] = 1/(total_three_words+(1*V_size))\n",
    "                if vocabulary_train[j] not in four_prob:\n",
    "                    four_prob[vocabulary_train[j]] = 1/(total_four_words+(1*V_size))\n",
    "                \n",
    "\n",
    "    elif y_train.iloc[i] == 2:\n",
    "        for j in range(len(X_train[i])):\n",
    "            # print(\"two\")\n",
    "            if X_train[i][j] == 1:\n",
    "                if vocabulary_train[j] not in two_prob:\n",
    "                    two_prob[vocabulary_train[j]] = 2/(total_two_words+(1*V_size))\n",
    "                else:\n",
    "                    two_prob[vocabulary_train[j]] = two_prob[vocabulary_train[j]] + 1/(total_two_words+(1*V_size))\n",
    "                \n",
    "                if vocabulary_train[j] not in one_prob:\n",
    "                    one_prob[vocabulary_train[j]] = 1/(total_one_words+(1*V_size))\n",
    "                if vocabulary_train[j] not in three_prob:\n",
    "                    three_prob[vocabulary_train[j]] = 1/(total_three_words+(1*V_size))\n",
    "                if vocabulary_train[j] not in four_prob:\n",
    "                    four_prob[vocabulary_train[j]] = 1/(total_four_words+(1*V_size))\n",
    "\n",
    "    elif y_train.iloc[i] == 3:\n",
    "        for j in range(len(X_train[i])):\n",
    "            # print(\"three\")\n",
    "            if X_train[i][j] == 1:\n",
    "                if vocabulary_train[j] not in three_prob:\n",
    "                    three_prob[vocabulary_train[j]] = 2/(total_three_words+(1*V_size))\n",
    "                else:\n",
    "                    three_prob[vocabulary_train[j]] = three_prob[vocabulary_train[j]] + 1/(total_three_words+(1*V_size))\n",
    "                \n",
    "                if vocabulary_train[j] not in one_prob:\n",
    "                    one_prob[vocabulary_train[j]] = 1/(total_one_words+(1*V_size))\n",
    "                if vocabulary_train[j] not in two_prob:\n",
    "                    two_prob[vocabulary_train[j]] = 1/(total_two_words+(1*V_size))\n",
    "                if vocabulary_train[j] not in four_prob:\n",
    "                    four_prob[vocabulary_train[j]] = 1/(total_four_words+(1*V_size))\n",
    "\n",
    "    else:\n",
    "        for j in range(len(X_train[i])):\n",
    "            # print(\"four\")\n",
    "            if X_train[i][j] == 1:\n",
    "                if vocabulary_train[j] not in four_prob:\n",
    "                    four_prob[vocabulary_train[j]] = 2/(total_four_words+(1*V_size))\n",
    "                else:\n",
    "                    four_prob[vocabulary_train[j]] = four_prob[vocabulary_train[j]] + 1/(total_four_words+(1*V_size))\n",
    "                \n",
    "                if vocabulary_train[j] not in one_prob:\n",
    "                    one_prob[vocabulary_train[j]] = 1/(total_one_words+(1*V_size))\n",
    "                if vocabulary_train[j] not in two_prob:\n",
    "                    two_prob[vocabulary_train[j]] = 1/(total_two_words+(1*V_size))\n",
    "                if vocabulary_train[j] not in three_prob:\n",
    "                    three_prob[vocabulary_train[j]] = 1/(total_three_words+(1*V_size))\n"
   ]
  },
  {
   "cell_type": "code",
   "execution_count": null,
   "metadata": {},
   "outputs": [],
   "source": [
    "test_df = pd.DataFrame({\"Text\": X_test, \"Points\":y_test}).reset_index()\n",
    "predictions = []\n",
    "for row in test_df['Text']:\n",
    "    one_x = np.log(one)\n",
    "    two_x = np.log(two)\n",
    "    three_x = np.log(three)\n",
    "    four_x = np.log(four)\n",
    "\n",
    "    # pos = Prob_pos\n",
    "    # neg = Prob_neg\n",
    "    for word in row.split():\n",
    "        if word in vocabulary_train:\n",
    "            one_x += np.log(one_prob[word])\n",
    "            two_x += np.log(two_prob[word])\n",
    "            three_x += np.log(three_prob[word])\n",
    "            four_x += np.log(four_prob[word])\n",
    "            # pos *= pos_prob[word]\n",
    "            # neg *= neg_prob[word]\n",
    "    if max(one_x, two_x, three_x, four_x) == one_x:\n",
    "        predictions.append(1)\n",
    "    elif max(one_x, two_x, three_x, four_x) == two_x:\n",
    "        predictions.append(2)\n",
    "    elif max(one_x, two_x, three_x, four_x) == three_x:\n",
    "        predictions.append(3)\n",
    "    elif max(one_x, two_x, three_x, four_x) == four_x:\n",
    "        predictions.append(4)\n"
   ]
  },
  {
   "cell_type": "code",
   "execution_count": null,
   "metadata": {},
   "outputs": [],
   "source": [
    "def create_metrics(actual, predicted):\n",
    "    TP = 0\n",
    "    TN = 0\n",
    "    FP = 0\n",
    "    FN = 0\n",
    "    for i in range(len(actual)):\n",
    "        if actual[i] == 3:\n",
    "            if actual[i] == predicted[i]:\n",
    "                TP += 1\n",
    "            else:\n",
    "                FN += 1\n",
    "        else:\n",
    "            if actual[i] == predicted[i]:\n",
    "                TN += 1\n",
    "            else:\n",
    "                FP += 1\n",
    "    recall = TP/(TP+FN)\n",
    "    specificity = TN/(TN+FP)\n",
    "    precision = TP/(TP+FP)\n",
    "    negative_predictive_value = TN/(TN+FN)\n",
    "    accuracy = (TP+TN)/(TN+TP+FP+FN)\n",
    "    F_score= 2*((recall*precision)/(recall+precision))\n",
    "\n",
    "    return TP, TN, FP, FN, recall, specificity, precision, negative_predictive_value, accuracy, F_score"
   ]
  },
  {
   "cell_type": "code",
   "execution_count": null,
   "metadata": {},
   "outputs": [],
   "source": [
    "def predict(sentence):\n",
    "    onex = np.log(one)\n",
    "    twox = np.log(two)\n",
    "    threex = np.log(three)\n",
    "    fourx = np.log(four)\n",
    "\n",
    "    for word in sentence.split():\n",
    "        if word in vocabulary_train:\n",
    "            onex += np.log(one_prob[word])\n",
    "            twox += np.log(two_prob[word])\n",
    "            threex += np.log(three_prob[word])\n",
    "            fourx += np.log(four_prob[word])\n",
    "    return onex, twox ,threex, fourx\n"
   ]
  },
  {
   "cell_type": "code",
   "execution_count": null,
   "metadata": {},
   "outputs": [],
   "source": [
    "TP, TN, FP, FN, recall, specificity, precision, negative_predictive_value, accuracy, F_score = create_metrics(test_df['Points'], predictions)"
   ]
  },
  {
   "cell_type": "code",
   "execution_count": null,
   "metadata": {},
   "outputs": [
    {
     "name": "stdout",
     "output_type": "stream",
     "text": [
      "Number of true positives: 4027\n",
      "Number of true negatives: 18850\n",
      "Number of false positives: 5514\n",
      "Number of false negatives: 1795\n",
      "Sensitivity (recall): 0.6916867055994503\n",
      "Specificity: 0.7736824823510097\n",
      "Precision: 0.4220731579499004\n",
      "Negative predictive value: 0.9130540082344394\n",
      "Accuracy: 0.7578678857748625\n",
      "F-score: 0.5242465664258282\n"
     ]
    }
   ],
   "source": [
    "\n",
    "\n",
    "print(f'Number of true positives: {TP}')\n",
    "print(f'Number of true negatives: {TN}')\n",
    "print(f'Number of false positives: {FP}')\n",
    "print(f'Number of false negatives: {FN}')\n",
    "print(f'Sensitivity (recall): {recall}')\n",
    "print(f'Specificity: {specificity}')\n",
    "print(f'Precision: {precision}')\n",
    "print(f'Negative predictive value: {negative_predictive_value}')\n",
    "print(f'Accuracy: {accuracy}')\n",
    "print(f'F-score: {F_score}')\n"
   ]
  },
  {
   "cell_type": "code",
   "execution_count": null,
   "metadata": {},
   "outputs": [
    {
     "name": "stdout",
     "output_type": "stream",
     "text": [
      "Sentence S: \n",
      "helloo good\n"
     ]
    }
   ],
   "source": [
    "S = input('Enter your sentence: ')\n",
    "print(f'Sentence S: \\n{S}')\n",
    "\n",
    "\n"
   ]
  },
  {
   "cell_type": "code",
   "execution_count": null,
   "metadata": {},
   "outputs": [
    {
     "name": "stdout",
     "output_type": "stream",
     "text": [
      "Was classified as Class 2 (Lower Mid).\n",
      "P(Class 1 | S) = 0.00041744343824093755\n",
      "P(Class 2 | S) = 0.0022689681887324673\n",
      "P(Class 3 | S) = 0.0003444048265323027\n",
      "P(Class 4 | S) = 1.1305519239285872e-05\n"
     ]
    }
   ],
   "source": [
    "onex, twox ,threex, fourx = predict(S)\n",
    "\n",
    "\n",
    "if onex > twox and onex > threex and onex > fourx:\n",
    "    classification = 'Class 1 (Least)'\n",
    "elif twox > onex and twox > threex and twox > fourx:\n",
    "    classification = 'Class 2 (Lower Mid)'\n",
    "elif threex > onex and threex > twox and threex > fourx:\n",
    "    classification = 'Class 3 (Upper Mid)'\n",
    "elif fourx > onex and fourx > twox and fourx > threex:\n",
    "    classification = 'Class 4 (Most)'\n",
    "\n",
    "print(f'Was classified as {classification}.')\n",
    "print(f'P(Class 1 | S) = {np.e**onex}')\n",
    "print(f'P(Class 2 | S) = {np.e**twox}')\n",
    "print(f'P(Class 3 | S) = {np.e**threex}')\n",
    "print(f'P(Class 4 | S) = {np.e**fourx}')"
   ]
  },
  {
   "cell_type": "code",
   "execution_count": null,
   "metadata": {},
   "outputs": [
    {
     "ename": "ValueError",
     "evalue": "multiclass format is not supported",
     "output_type": "error",
     "traceback": [
      "\u001b[1;31m---------------------------------------------------------------------------\u001b[0m",
      "\u001b[1;31mValueError\u001b[0m                                Traceback (most recent call last)",
      "Cell \u001b[1;32mIn[29], line 2\u001b[0m\n\u001b[0;32m      1\u001b[0m \u001b[38;5;66;03m# Calculate the TPR and FPR for each model\u001b[39;00m\n\u001b[1;32m----> 2\u001b[0m fpr1, tpr1, thresholds1 \u001b[38;5;241m=\u001b[39m roc_curve(test_df[\u001b[38;5;124m'\u001b[39m\u001b[38;5;124mPoints\u001b[39m\u001b[38;5;124m'\u001b[39m], predictions)\n\u001b[0;32m      4\u001b[0m \u001b[38;5;66;03m# Plot the ROC curves\u001b[39;00m\n\u001b[0;32m      5\u001b[0m plt\u001b[38;5;241m.\u001b[39mplot(fpr1, tpr1, label\u001b[38;5;241m=\u001b[39m\u001b[38;5;124m'\u001b[39m\u001b[38;5;124mAll preprocessing\u001b[39m\u001b[38;5;124m'\u001b[39m, color\u001b[38;5;241m=\u001b[39m\u001b[38;5;124m\"\u001b[39m\u001b[38;5;124m#2D398B\u001b[39m\u001b[38;5;124m\"\u001b[39m)\n",
      "File \u001b[1;32mc:\\ProgramData\\anaconda3\\Lib\\site-packages\\sklearn\\utils\\_param_validation.py:211\u001b[0m, in \u001b[0;36mvalidate_params.<locals>.decorator.<locals>.wrapper\u001b[1;34m(*args, **kwargs)\u001b[0m\n\u001b[0;32m    205\u001b[0m \u001b[38;5;28;01mtry\u001b[39;00m:\n\u001b[0;32m    206\u001b[0m     \u001b[38;5;28;01mwith\u001b[39;00m config_context(\n\u001b[0;32m    207\u001b[0m         skip_parameter_validation\u001b[38;5;241m=\u001b[39m(\n\u001b[0;32m    208\u001b[0m             prefer_skip_nested_validation \u001b[38;5;129;01mor\u001b[39;00m global_skip_validation\n\u001b[0;32m    209\u001b[0m         )\n\u001b[0;32m    210\u001b[0m     ):\n\u001b[1;32m--> 211\u001b[0m         \u001b[38;5;28;01mreturn\u001b[39;00m func(\u001b[38;5;241m*\u001b[39margs, \u001b[38;5;241m*\u001b[39m\u001b[38;5;241m*\u001b[39mkwargs)\n\u001b[0;32m    212\u001b[0m \u001b[38;5;28;01mexcept\u001b[39;00m InvalidParameterError \u001b[38;5;28;01mas\u001b[39;00m e:\n\u001b[0;32m    213\u001b[0m     \u001b[38;5;66;03m# When the function is just a wrapper around an estimator, we allow\u001b[39;00m\n\u001b[0;32m    214\u001b[0m     \u001b[38;5;66;03m# the function to delegate validation to the estimator, but we replace\u001b[39;00m\n\u001b[0;32m    215\u001b[0m     \u001b[38;5;66;03m# the name of the estimator by the name of the function in the error\u001b[39;00m\n\u001b[0;32m    216\u001b[0m     \u001b[38;5;66;03m# message to avoid confusion.\u001b[39;00m\n\u001b[0;32m    217\u001b[0m     msg \u001b[38;5;241m=\u001b[39m re\u001b[38;5;241m.\u001b[39msub(\n\u001b[0;32m    218\u001b[0m         \u001b[38;5;124mr\u001b[39m\u001b[38;5;124m\"\u001b[39m\u001b[38;5;124mparameter of \u001b[39m\u001b[38;5;124m\\\u001b[39m\u001b[38;5;124mw+ must be\u001b[39m\u001b[38;5;124m\"\u001b[39m,\n\u001b[0;32m    219\u001b[0m         \u001b[38;5;124mf\u001b[39m\u001b[38;5;124m\"\u001b[39m\u001b[38;5;124mparameter of \u001b[39m\u001b[38;5;132;01m{\u001b[39;00mfunc\u001b[38;5;241m.\u001b[39m\u001b[38;5;18m__qualname__\u001b[39m\u001b[38;5;132;01m}\u001b[39;00m\u001b[38;5;124m must be\u001b[39m\u001b[38;5;124m\"\u001b[39m,\n\u001b[0;32m    220\u001b[0m         \u001b[38;5;28mstr\u001b[39m(e),\n\u001b[0;32m    221\u001b[0m     )\n",
      "File \u001b[1;32mc:\\ProgramData\\anaconda3\\Lib\\site-packages\\sklearn\\metrics\\_ranking.py:1094\u001b[0m, in \u001b[0;36mroc_curve\u001b[1;34m(y_true, y_score, pos_label, sample_weight, drop_intermediate)\u001b[0m\n\u001b[0;32m    992\u001b[0m \u001b[38;5;129m@validate_params\u001b[39m(\n\u001b[0;32m    993\u001b[0m     {\n\u001b[0;32m    994\u001b[0m         \u001b[38;5;124m\"\u001b[39m\u001b[38;5;124my_true\u001b[39m\u001b[38;5;124m\"\u001b[39m: [\u001b[38;5;124m\"\u001b[39m\u001b[38;5;124marray-like\u001b[39m\u001b[38;5;124m\"\u001b[39m],\n\u001b[1;32m   (...)\u001b[0m\n\u001b[0;32m   1003\u001b[0m     y_true, y_score, \u001b[38;5;241m*\u001b[39m, pos_label\u001b[38;5;241m=\u001b[39m\u001b[38;5;28;01mNone\u001b[39;00m, sample_weight\u001b[38;5;241m=\u001b[39m\u001b[38;5;28;01mNone\u001b[39;00m, drop_intermediate\u001b[38;5;241m=\u001b[39m\u001b[38;5;28;01mTrue\u001b[39;00m\n\u001b[0;32m   1004\u001b[0m ):\n\u001b[0;32m   1005\u001b[0m \u001b[38;5;250m    \u001b[39m\u001b[38;5;124;03m\"\"\"Compute Receiver operating characteristic (ROC).\u001b[39;00m\n\u001b[0;32m   1006\u001b[0m \n\u001b[0;32m   1007\u001b[0m \u001b[38;5;124;03m    Note: this implementation is restricted to the binary classification task.\u001b[39;00m\n\u001b[1;32m   (...)\u001b[0m\n\u001b[0;32m   1092\u001b[0m \u001b[38;5;124;03m    array([ inf, 0.8 , 0.4 , 0.35, 0.1 ])\u001b[39;00m\n\u001b[0;32m   1093\u001b[0m \u001b[38;5;124;03m    \"\"\"\u001b[39;00m\n\u001b[1;32m-> 1094\u001b[0m     fps, tps, thresholds \u001b[38;5;241m=\u001b[39m _binary_clf_curve(\n\u001b[0;32m   1095\u001b[0m         y_true, y_score, pos_label\u001b[38;5;241m=\u001b[39mpos_label, sample_weight\u001b[38;5;241m=\u001b[39msample_weight\n\u001b[0;32m   1096\u001b[0m     )\n\u001b[0;32m   1098\u001b[0m     \u001b[38;5;66;03m# Attempt to drop thresholds corresponding to points in between and\u001b[39;00m\n\u001b[0;32m   1099\u001b[0m     \u001b[38;5;66;03m# collinear with other points. These are always suboptimal and do not\u001b[39;00m\n\u001b[0;32m   1100\u001b[0m     \u001b[38;5;66;03m# appear on a plotted ROC curve (and thus do not affect the AUC).\u001b[39;00m\n\u001b[1;32m   (...)\u001b[0m\n\u001b[0;32m   1105\u001b[0m     \u001b[38;5;66;03m# but does not drop more complicated cases like fps = [1, 3, 7],\u001b[39;00m\n\u001b[0;32m   1106\u001b[0m     \u001b[38;5;66;03m# tps = [1, 2, 4]; there is no harm in keeping too many thresholds.\u001b[39;00m\n\u001b[0;32m   1107\u001b[0m     \u001b[38;5;28;01mif\u001b[39;00m drop_intermediate \u001b[38;5;129;01mand\u001b[39;00m \u001b[38;5;28mlen\u001b[39m(fps) \u001b[38;5;241m>\u001b[39m \u001b[38;5;241m2\u001b[39m:\n",
      "File \u001b[1;32mc:\\ProgramData\\anaconda3\\Lib\\site-packages\\sklearn\\metrics\\_ranking.py:803\u001b[0m, in \u001b[0;36m_binary_clf_curve\u001b[1;34m(y_true, y_score, pos_label, sample_weight)\u001b[0m\n\u001b[0;32m    801\u001b[0m y_type \u001b[38;5;241m=\u001b[39m type_of_target(y_true, input_name\u001b[38;5;241m=\u001b[39m\u001b[38;5;124m\"\u001b[39m\u001b[38;5;124my_true\u001b[39m\u001b[38;5;124m\"\u001b[39m)\n\u001b[0;32m    802\u001b[0m \u001b[38;5;28;01mif\u001b[39;00m \u001b[38;5;129;01mnot\u001b[39;00m (y_type \u001b[38;5;241m==\u001b[39m \u001b[38;5;124m\"\u001b[39m\u001b[38;5;124mbinary\u001b[39m\u001b[38;5;124m\"\u001b[39m \u001b[38;5;129;01mor\u001b[39;00m (y_type \u001b[38;5;241m==\u001b[39m \u001b[38;5;124m\"\u001b[39m\u001b[38;5;124mmulticlass\u001b[39m\u001b[38;5;124m\"\u001b[39m \u001b[38;5;129;01mand\u001b[39;00m pos_label \u001b[38;5;129;01mis\u001b[39;00m \u001b[38;5;129;01mnot\u001b[39;00m \u001b[38;5;28;01mNone\u001b[39;00m)):\n\u001b[1;32m--> 803\u001b[0m     \u001b[38;5;28;01mraise\u001b[39;00m \u001b[38;5;167;01mValueError\u001b[39;00m(\u001b[38;5;124m\"\u001b[39m\u001b[38;5;132;01m{0}\u001b[39;00m\u001b[38;5;124m format is not supported\u001b[39m\u001b[38;5;124m\"\u001b[39m\u001b[38;5;241m.\u001b[39mformat(y_type))\n\u001b[0;32m    805\u001b[0m check_consistent_length(y_true, y_score, sample_weight)\n\u001b[0;32m    806\u001b[0m y_true \u001b[38;5;241m=\u001b[39m column_or_1d(y_true)\n",
      "\u001b[1;31mValueError\u001b[0m: multiclass format is not supported"
     ]
    }
   ],
   "source": [
    "# Calculate the TPR and FPR for each model\n",
    "fpr1, tpr1, thresholds1 = roc_curve(test_df['Points'], predictions)\n",
    "\n",
    "# Plot the ROC curves\n",
    "plt.plot(fpr1, tpr1, label='All preprocessing', color=\"#2D398B\")\n",
    "# plt.plot(fpr2, tpr2, label='Without removing stop words', color=\"#C14169\")\n",
    "# plt.plot([0, 1], [0, 1], 'k--', color='grey')\n",
    "plt.xlabel('False Positive Rate')\n",
    "plt.ylabel('True Positive Rate')\n",
    "plt.title('ROC Curve')\n",
    "plt.legend()\n",
    "plt.show()\n"
   ]
  },
  {
   "cell_type": "code",
   "execution_count": 67,
   "metadata": {},
   "outputs": [
    {
     "data": {
      "text/plain": [
       "(30186, 3)"
      ]
     },
     "execution_count": 67,
     "metadata": {},
     "output_type": "execute_result"
    }
   ],
   "source": [
    "test_df.shape"
   ]
  },
  {
   "cell_type": "code",
   "execution_count": 68,
   "metadata": {},
   "outputs": [],
   "source": [
    "predictions_array = np.array(predictions)  # Convert to NumPy array"
   ]
  },
  {
   "cell_type": "code",
   "execution_count": 76,
   "metadata": {},
   "outputs": [
    {
     "name": "stdout",
     "output_type": "stream",
     "text": [
      "(30186, 4)\n"
     ]
    },
    {
     "data": {
      "image/png": "[encoded data removed]",
      "text/plain": [
       "<Figure size 640x480 with 1 Axes>"
      ]
     },
     "metadata": {},
     "output_type": "display_data"
    }
   ],
   "source": [
    "from sklearn.metrics import auc\n",
    "from sklearn.preprocessing import label_binarize\n",
    "from sklearn.metrics import roc_curve\n",
    "\n",
    "\n",
    "y_test_binarized=label_binarize(y_test,classes=np.unique(y_test))\n",
    "\n",
    "# roc curve for classes\n",
    "fpr = {}\n",
    "tpr = {}\n",
    "thresh ={}\n",
    "roc_auc = dict()\n",
    "\n",
    "n_class = y_test_binarized.shape[1]\n",
    "\n",
    "for i in range(n_class):\n",
    "    fpr[i], tpr[i], thresh[i] = roc_curve(y_test_binarized[:, i], predictions)\n",
    "    roc_auc[i] = auc(fpr[i], tpr[i])\n",
    " \n",
    "    plt.plot(fpr[i], tpr[i], linestyle='--', \n",
    "             label='%s vs Rest (AUC=%0.2f)'%(a[i],roc_auc[i]))\n",
    "\n",
    "plt.plot([0,1],[0,1],'b--')\n",
    "plt.xlim([0,1])\n",
    "plt.ylim([0,1.05])\n",
    "plt.title('Multiclass ROC curve')\n",
    "plt.xlabel('False Positive Rate')\n",
    "plt.ylabel('True Positive rate')\n",
    "plt.legend(loc='lower right')\n",
    "plt.show()"
   ]
  }
 ],
 "metadata": {
  "kernelspec": {
   "display_name": "base",
   "language": "python",
   "name": "python3"
  },
  "language_info": {
   "codemirror_mode": {
    "name": "ipython",
    "version": 3
   },
   "file_extension": ".py",
   "mimetype": "text/x-python",
   "name": "python",
   "nbconvert_exporter": "python",
   "pygments_lexer": "ipython3",
   "version": "3.11.5"
  }
 },
 "nbformat": 4,
 "nbformat_minor": 2
}
